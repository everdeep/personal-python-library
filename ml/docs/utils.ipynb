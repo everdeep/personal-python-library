{
 "cells": [
  {
   "attachments": {},
   "cell_type": "markdown",
   "metadata": {},
   "source": [
    "### Encoding Categorical data"
   ]
  },
  {
   "cell_type": "code",
   "execution_count": 24,
   "metadata": {},
   "outputs": [
    {
     "name": "stdout",
     "output_type": "stream",
     "text": [
      "[[ 1.  0.  0.  0.  0.  0.  0.  0.  0.  0.  1.  2.  3.  4.  5.  6.  7.  8.\n",
      "   9.]\n",
      " [ 0.  1.  0.  0.  0.  0.  0.  0.  0.  0. 11. 12. 13. 14. 15. 16. 17. 18.\n",
      "  19.]\n",
      " [ 0.  0.  1.  0.  0.  0.  0.  0.  0.  0. 21. 22. 23. 24. 25. 26. 27. 28.\n",
      "  29.]\n",
      " [ 0.  0.  0.  1.  0.  0.  0.  0.  0.  0. 31. 32. 33. 34. 35. 36. 37. 38.\n",
      "  39.]\n",
      " [ 0.  0.  0.  0.  1.  0.  0.  0.  0.  0. 41. 42. 43. 44. 45. 46. 47. 48.\n",
      "  49.]\n",
      " [ 0.  0.  0.  0.  0.  1.  0.  0.  0.  0. 51. 52. 53. 54. 55. 56. 57. 58.\n",
      "  59.]\n",
      " [ 0.  0.  0.  0.  0.  0.  1.  0.  0.  0. 61. 62. 63. 64. 65. 66. 67. 68.\n",
      "  69.]\n",
      " [ 0.  0.  0.  0.  0.  0.  0.  1.  0.  0. 71. 72. 73. 74. 75. 76. 77. 78.\n",
      "  79.]\n",
      " [ 0.  0.  0.  0.  0.  0.  0.  0.  1.  0. 81. 82. 83. 84. 85. 86. 87. 88.\n",
      "  89.]\n",
      " [ 0.  0.  0.  0.  0.  0.  0.  0.  0.  1. 91. 92. 93. 94. 95. 96. 97. 98.\n",
      "  99.]]\n"
     ]
    }
   ],
   "source": [
    "import numpy as np\n",
    "from sklearn.compose import ColumnTransformer\n",
    "from sklearn.preprocessing import OneHotEncoder\n",
    "X = np.arange(0, 100).reshape(10, 10)\n",
    "cols = [0]\n",
    "ct = ColumnTransformer(transformers=[('encoder', OneHotEncoder(), cols)], remainder='passthrough')\n",
    "X = np.array(ct.fit_transform(X[:]))\n",
    "print(X)"
   ]
  }
 ],
 "metadata": {
  "kernelspec": {
   "display_name": "Python 3",
   "language": "python",
   "name": "python3"
  },
  "language_info": {
   "codemirror_mode": {
    "name": "ipython",
    "version": 3
   },
   "file_extension": ".py",
   "mimetype": "text/x-python",
   "name": "python",
   "nbconvert_exporter": "python",
   "pygments_lexer": "ipython3",
   "version": "3.9.16"
  },
  "orig_nbformat": 4
 },
 "nbformat": 4,
 "nbformat_minor": 2
}
